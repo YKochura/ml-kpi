{
  "cells": [
    {
      "cell_type": "markdown",
      "source": [
        "<a href=\"https://colab.research.google.com/github/YKochura/ml-kpi/blob/76048b9b083d2e2b9319420ba4ed6199894d3191/tutor/support_vector_machines.ipynb\" target=\"_parent\"><img src=\"https://colab.research.google.com/assets/colab-badge.svg\" alt=\"Open In Colab\"/></a>"
      ],
      "metadata": {
        "id": "gV0HSiaBnYpK"
      }
    },
    {
      "cell_type": "markdown",
      "metadata": {
        "id": "znemBzSyh9zl"
      },
      "source": [
        "# Метод опорних векторів\n",
        "\n",
        "- [1. Метод опорних векторів](#svm)\n",
        "- [2. Прямий підхід – SVM з жорстким зазором](#hard-margin-svm)\n",
        "- [3. Прямий підхід — SVM з м’яким зазором ](#soft-margin-svm)\n",
        "- [4. Розв'язання прямої задачі оптимізації](#solving-primal-svm)\n",
        "   - [4.1 Завісна функція втрат (Hinge loss)](#hinge-loss)\n",
        "   - [4.2 Оновлена цільова функція](#updated-objective-function)\n",
        "   - [4.3 Субградієнтний спуск](#subgradient-descent)\n",
        "- [5. Реалізація прямого підходу](#primal-implementation)\n",
        "   - [5.1 Демонстраційний набір даних](#toy-dataset)\n",
        "   - [5.2 Визначення класу SVM ](#primal-svm-class)\n",
        "   - [5.3 Навчання та тестування SVM](#train-test-svm)  \n",
        "   - [5.4 Візуалізація границі прийняття рішення](#decision-boundary)\n",
        "- [6. Двоїстий підхід](#dual-approach)\n",
        "    - [6.1 Підсумок про множники Лагранжа](#recap-lagrange-multipliers)\n",
        "    - [6.2 Лагранжіан](#recap-lagrangian)\n",
        "    - [6.3 Проблема дуальної оптимізації](#dual-optimization-problem)\n",
        "- [7. Прямий (primal) та двоїстий (dual) підходи](#primal-vs-dual)\n",
        "- [8. Ядра / Нелінійні SVM](#kernel-svms)\n",
        "    - [8.1 Що таке ядро?](#what-is-a-kernel)\n",
        "    - [8.2 Для чого потрібні ядра?](#what-are-kernels-good-for)\n",
        "    - [8.3 Приклад](#kernel-example)\n",
        "    - [8.4 Чи можна також використовувати ядра в прямій (primal) формі SVM?](#kernel-in-primal-svm)\n",
        "- [9. Джерела та додаткова література](#sources)"
      ]
    },
    {
      "cell_type": "markdown",
      "metadata": {
        "id": "FKdJVzeWh9zr"
      },
      "source": [
        "## 1. Метод опорних векторів <a class=\"anchor\" id=\"svm\"></a>\n",
        "\n",
        "**Метод опорних векторів** (англ. Support Vector Machine, скорочено SVM) &mdash; метод керованого навчанням (supervised learning) для класифікації та регресійного аналізу даних. SVM  є найвідомішими представниками класу [ядрових методів](https://uk.wikipedia.org/wiki/%D0%AF%D0%B4%D1%80%D0%BE%D0%B2%D1%96_%D0%BC%D0%B5%D1%82%D0%BE%D0%B4%D0%B8).\n",
        "\n",
        "Перша версія SVM була запропонована у 1963 році &mdash; простий лінійний бінарний класифікатор. Припустимо, що нам дано набір даних:\n",
        "\n",
        " $$D = \\big \\{ \\mathbf{x}_n, y_n \\big \\}_{n=1}^N,$$\n",
        "  де $\\mathbf{x}_n \\in \\mathbb{R}^D$ &mdash; вхідні вектори ознак, $y_n \\in \\{-1, +1 \\}$ &mdash; бінарні класи. Лінійна (у випадку жорсткого розділення &mdash; hard-margin) SVM виконує розділення двох класів за допомогою гіперплощини розмірності $(D-1)$.\n",
        "\n",
        "Особливістю SVM є те, що цей метод використовує не будь-яку гіперплощину, а таку, яка максимізує відстань між собою та найближчими точками з обох класів. Така гіперплощина називається гіперплощиною з максимальним зазором (maximum-margin hyperplane):\n",
        "\n",
        "<img src=\"https://docs.google.com/uc?export=download&id=17regyN5uSblDoPZXV62DbXYkov7wsbO7\" width=\"800\"/>\n",
        "\n",
        "\n",
        "Термін зазор (margin) означає відстань між гіперплощиною класифікації та найближчими точками навчальної вибірки.\n",
        "\n",
        "Існує два основних типи SVM: прямі (primal) та двоїсті (dual). Хоча більшість досліджень у минулому зосереджувалася на двоїстих SVM, обидва підходи можуть бути використані для нелінійної класифікації.\n"
      ]
    },
    {
      "cell_type": "markdown",
      "metadata": {
        "id": "PsPXGQO2h9zs"
      },
      "source": [
        "## 2. Прямий підхід – SVM з жорстким зазором (hard-margin) <a class=\"anchor\" id=\"hard-margin-svm\"></a>\n",
        "\n",
        "Під час навчання SVM наша мета &mdash; знайти таку гіперплощину, яка максимізує зазор (margin) між двома множинами точок. Ця гіперплощина повністю визначається найближчими до неї точками, які називаються **опорними векторами** (support vectors).\n",
        "\n",
        "Рівняння гіперплощини має вигляд:\n",
        "\n",
        "$$\\langle \\mathbf{w}, \\mathbf{x} \\rangle + b = 0,$$\n",
        "\n",
        "де $\\langle \\cdot, \\cdot \\rangle$ — це скалярний добуток, а $\\mathbf{w}$ — нормальний вектор до гіперплощини.\n",
        "\n",
        "Якщо приклад $\\mathbf{x}_i$ лежить праворуч від гіперплощини (тобто має позитивну мітку), то:\n",
        "$$\\langle \\mathbf{w}, \\mathbf{x}_i \\rangle + b \\gt 0.$$\n",
        "\n",
        "Якщо ж $\\mathbf{x}_i$ лежить ліворуч (тобто має негативну мітку), то:\n",
        "$$\\langle \\mathbf{w}, \\mathbf{x}_i \\rangle + b \\lt 0.$$\n",
        "\n",
        "Опорні вектори лежать точно на межі зазору, і оптимальна розділяюча гіперплощина повинна мати однакову відстань до всіх опорних векторів.\n",
        "\n",
        "У цьому сенсі гіперплощина з максимальним зазором знаходиться між двома розділяючими гіперплощинами, які визначаються саме опорними векторами:\n",
        "\n",
        "<img src=\"https://docs.google.com/uc?export=download&id=1kQ8hnTrLxTYLG08MGnxENcYqODdT2bK6\" width=\"450\"/>\n",
        "\n",
        "### Мета 1:\n",
        "Під час виведення формального рівняння гіперплощини з максимальним зазором ми припускаємо, що дві граничні гіперплощини мають вигляд:   \n",
        "$$\\langle \\mathbf{w}, \\mathbf{x}_{+} \\rangle + b = +1$$\n",
        "$$\\langle \\mathbf{w}, \\mathbf{x}_{-} \\rangle + b = -1$$\n",
        "\n",
        "\n",
        "Іншими словами: ми хочемо, щоб усі точки навчальної вибірки знаходилися на відстані не менше 1 від розділяючої гіперплощини — в обидва боки. Для позитивних прикладів (з міткою $y_n = +1$) повинна виконуватись умова:\n",
        "\n",
        "$$\\langle \\mathbf{w}, \\mathbf{x}_n \\rangle + b \\ge +1.$$\n",
        "\n",
        "Для негативних прикладів (з міткою $y_n = -1$):\n",
        "$$\\langle \\mathbf{w}, \\mathbf{x}_n \\rangle + b \\le -1.$$\n",
        "\n",
        "Ці дві умови можна об'єднати в одну:\n",
        "$$y_n(\\langle \\mathbf{w}, \\mathbf{x}_n \\rangle + b) \\ge 1.$$\n",
        "\n",
        "Це й є перша мета:\n",
        "\n",
        "> Ми хочемо отримати розділяючу гіперплощину, яка правильно класифікує всі приклади навчальної вибірки.\n",
        "\n",
        "\n",
        "### Мета 2:\n",
        "Друга мета — максимізувати зазор (margin) навколо розділяючої гіперплощини.\n",
        "\n",
        "Зазор задається як:\n",
        "$$\\frac{1}{\\Vert \\mathbf{w} \\Vert}.$$\n",
        "\n",
        "Максимізацію зазору можна сформулювати так:\n",
        "$$ \\max_{\\mathbf{w}, b} \\frac{1}{\\Vert \\mathbf{w} \\Vert}$$\n",
        "\n",
        "Замість максимізації цієї величини зручно мінімізувати:\n",
        "$$\n",
        "\\min_{\\mathbf{w}, b} \\frac{1}{2} \\Vert \\mathbf{w} \\Vert^2\n",
        "$$\n",
        "\n",
        "Це спрощує обчислення градієнта під час оптимізації.\n",
        "\n",
        "### Об'єднана мета\n",
        "Об’єднавши першу та другу мету, отримуємо наступну задачу оптимізації:   \n",
        "$$\n",
        "\\min_{\\mathbf{w}, b} \\frac{1}{2} \\Vert \\mathbf{w} \\Vert^2\n",
        "$$\n",
        "$$\n",
        "\\text{за умовою: } y_n(\\langle \\mathbf{w}, \\mathbf{x}_n \\rangle + b) \\ge 1 \\;\\; \\forall n = 1, ..., N\n",
        "$$\n",
        "\n",
        "Іншими словами:\n",
        "\n",
        "> Ми хочемо знайти такі значення $\\mathbf{w}$ та $b$, які максимізують зазор і при цьому правильно класифікують всі приклади.\n",
        "\n",
        "Такий підхід називається методом опорних векторів з жорстким зазором (hard-margin SVM). \"Жорстким\" (hard), тому що не дозволяє жодних порушень вимог до зазору — жодна точка не може потрапити всередину або за межі цього зазору."
      ]
    },
    {
      "cell_type": "markdown",
      "metadata": {
        "id": "JdNLV_F7h9zt"
      },
      "source": [
        "## Виведення рівняння зазору <a class=\"anchor\" id=\"margin-derivation\"></a>\n",
        "\n",
        "Ширину зазору можна вивести кількома способами (див. розділи 12.2.1–12.2.2 у книзі [Mathematics for Machine Learning book](https://mml-book.com)). Проте зрозуміліше за все це пояснюється у  [цій лекції MIT про SVMs](https://www.youtube.com/watch?v=_PwhiWxHK8o).\n",
        "\n",
        "Виведення базується на тих самих припущеннях, які ми вже розглядали раніше:\n",
        "$$\\langle \\mathbf{w}, \\mathbf{x}_{+} \\rangle + b = +1$$\n",
        "$$\\langle \\mathbf{w}, \\mathbf{x}_{-} \\rangle + b = -1$$\n",
        "\n",
        "З урахуванням мітки кожного прикладу це можна переписати як:\n",
        "$$y_i (\\langle \\mathbf{w}, \\mathbf{x}_{i} \\rangle + b) -1 = 0$$\n",
        "\n",
        "Нехай маємо позитивний приклад $\\mathbf{x}{+}$, що лежить на правій гіперплощині, та негативний приклад $\\mathbf{x}{-}$, що лежить на лівій гіперплощині. Векторна відстань між цими точками — це $(\\mathbf{x}{+} - \\mathbf{x}{-})$.\n",
        "\n",
        "Щоб знайти ширину зазору, потрібно обчислити ортогональну проєкцію цього вектора на напрямок, перпендикулярний до розділяючої гіперплощини. Це можна зробити, помноживши $(\\mathbf{x}{+} - \\mathbf{x}{-})$ на унітарний вектор, перпендикулярний до гіперплощини. Ми знаємо, що вектор $\\mathbf{w}$ є нормаллю до цієї гіперплощини, тому поділивши його на його норму $||\\mathbf{w}||$, отримаємо потрібний унітарний вектор:\n",
        "\n",
        "<img src=\"https://docs.google.com/uc?export=download&id=1f48I-8-ndnkMy97FpeV8hUXGVH9HCm3S\" width=\"500\"/>\n",
        "\n",
        "$$\n",
        "\\begin{align*}\n",
        "\\text{ширина} &= (\\mathbf{x}_{+} - \\mathbf{x}_{-}) \\cdot \\frac{\\mathbf{w}}{||\\mathbf{w}||} \\\\\n",
        "&= \\frac{\\mathbf{x}_{+} \\cdot \\mathbf{w}}{||\\mathbf{w}||} - \\frac{\\mathbf{x}_{-} \\cdot \\mathbf{w}}{||\\mathbf{w}||}\n",
        "\\end{align*}\n",
        "$$\n",
        "\n",
        "Для позитивного прикладу $\\mathbf{x}{+}$ маємо $y+ = +1$, тому:\n",
        "$$(\\langle \\mathbf{w}, \\mathbf{x}_{+} \\rangle = 1 - b$$\n",
        "\n",
        "Для негативного прикладу $\\mathbf{x}{-}$ маємо $y- = -1$, тому:\n",
        "$- (\\langle \\mathbf{w}, \\mathbf{x}_{-} \\rangle) = 1 + b$\n",
        "\n",
        "Таким чином отримуємо:\n",
        "\n",
        "$$\n",
        "\\begin{align*}\n",
        "\\text{ширина} &= (\\mathbf{x}_{+} - \\mathbf{x}_{-}) \\cdot \\frac{\\mathbf{w}}{||\\mathbf{w}||} \\\\\n",
        "&= \\frac{\\mathbf{x}_{+} \\cdot \\mathbf{w}}{||\\mathbf{w}||} - \\frac{\\mathbf{x}_{-} \\cdot \\mathbf{w}}{||\\mathbf{w}||} \\\\\n",
        "&= \\frac{(1 - b) + (1 + b)}{||\\mathbf{w}||}\\\\\n",
        "&= \\frac{2}{||\\mathbf{w}||}\\\\\n",
        "\\end{align*}\n",
        "$$\n",
        "\n",
        "Отже, ширина між двома граничними гіперплощинами дорівнює  $\\frac{2}{||\\mathbf{w}||}$. А відстань від розділяючої гіперплощини до кожної з граничних — це половина цієї величини: $\\frac{1}{||\\mathbf{w}||}$\n",
        "\n"
      ]
    },
    {
      "cell_type": "markdown",
      "metadata": {
        "id": "kU0nNetah9zu"
      },
      "source": [
        "##  3. Прямий підхід — SVM з м’яким зазором <a class=\"anchor\" id=\"soft-margin-svm\"></a>\n",
        "\n",
        "У більшості реальних задач наявні дані не є лінійно роздільними. Навіть якщо розділення можливе, іноді краще мати модель, яка добре відокремлює основну масу даних, ігноруючи **зашумлені приклади** або **викиди**. Це стало підставою для розширення початкового жорсткого SVM (hard-margin SVM) до так званого SVM з м’яким зазором (soft-margin SVM).\n",
        "\n",
        "SVM з м’яким зазором **дозволяє порушення вимоги щодо зазору** (тобто допускає помилки класифікації). Інакше кажучи, не всі навчальні приклади повинні бути правильно класифіковані. Деякі можуть знаходитися всередині зазору, а деякі — навіть на неправильному боці гіперплощини рішень. Але такі порушення мають свою ціну: чим більше приклад відхиляється від вимоги до зазору, тим вищу ціну ми за це платимо.\n",
        "\n",
        "Щоб це реалізувати, ми вводимо так звані змінні послаблення (slack variables) $\\xi_n$. Кожному тренувальному прикладу $(\\mathbf{x}_n, y_n)$ призначається змінна $\\xi_n \\ge 0$. Вона вказує, наскільки сильно приклад порушує вимогу до зазору:\n",
        "\n",
        "- Якщо $\\xi_n = 0$, приклад лежить точно на межі зазору.\n",
        "- Якщо $0 < \\xi_n < 1$, приклад лежить всередині зазору, але на правильному боці гіперплощини.\n",
        "- Якщо $\\xi_n \\ge 1$, приклад знаходиться на неправильному боці гіперплощини.\n",
        "\n",
        "\n",
        "Модифікуємо нашу цільову функцію з урахуванням змінних послаблення наступним чином:\n",
        "$$ \\min_{\\mathbf{w}, b, \\mathbf{\\xi}} \\frac{1}{2} \\Vert \\mathbf{w} \\Vert^2 + C \\sum_{n=1}^N \\xi_n $$\n",
        "\n",
        "$$ \\text{за умов:} $$\n",
        "\n",
        "$$ \\begin{equation}\n",
        "y_n(\\langle \\mathbf{w}, \\mathbf{x}_n \\rangle + b) \\ge 1 - \\xi_n\n",
        "\\end{equation}$$\n",
        "\n",
        "$$ \\xi_i \\ge 0 \\;\\; \\forall n = 1, ..., N $$\n",
        "\n",
        "Параметр $C$ — це регуляризаційний параметр, що керує компромісом між максимізацією зазору та мінімізацією помилок на тренувальних даних:\n",
        "- Якщо $C$ мале, ми більше дбаємо про широкий зазор, ніж про правильну класифікацію кожної точки.\n",
        "- Якщо $C$ велике, ми більше дбаємо про правильну класифікацію всіх точок, навіть якщо це призведе до зменшення зазору.\n"
      ]
    },
    {
      "cell_type": "markdown",
      "metadata": {
        "id": "S8gE2oNch9zv"
      },
      "source": [
        "## 4. Розв'язання прямої задачі оптимізації <a class=\"anchor\" id=\"solving-primal-svm\"></a>\n",
        "\n",
        "Теоретично пряму задачу оптимізації SVM можна розв’язувати різними способами. Один із найвідоміших підходів — це використання [завісної функції втрат](https://uk.wikipedia.org/wiki/%D0%97%D0%B0%D0%B2%D1%96%D1%81%D0%BD%D1%96_%D0%B2%D1%82%D1%80%D0%B0%D1%82%D0%B8)у поєднанні з [субградієнтним спуском](https://uk.wikipedia.org/wiki/%D0%A1%D1%83%D0%B1%D0%B3%D1%80%D0%B0%D0%B4%D1%96%D1%94%D0%BD%D1%82%D0%BD%D0%B8%D0%B9_%D0%BC%D0%B5%D1%82%D0%BE%D0%B4).\n",
        "\n",
        "\n",
        "### 4.1 Завісна функція втрат (Hinge loss) <a class=\"anchor\" id=\"hinge-loss\"></a>\n",
        "\n",
        "Завісна функція втрат для істинної мітки $y \\in {-1, +1}$ та передбачення $f(\\mathbf{x}) = \\langle \\mathbf{w}, \\mathbf{x} \\rangle + b$ обчислюється як:\n",
        "\n",
        "$$\\ell(t)=\\max \\{0,1-t\\} \\quad \\text{де} \\quad t=y \\cdot f(\\mathbf{x})= y \\cdot \\big(\\langle\\mathbf{w}, \\mathbf{x}\\rangle+b\\big)$$\n",
        "\n",
        "Розглянемо кілька прикладів для розуміння цієї функції:\n",
        "- Якщо навчальний приклад має мітку $y = -1$, і передбачення знаходиться на правильному боці зазору (тобто $f(\\mathbf{x}) \\le -1$), тоді $t \\ge 1$ і втрати дорівнюють нулю: $\\ell(t) = 0$.\n",
        "- Те саме стосується прикладів із міткою $y = 1$, якщо $f(\\mathbf{x}) \\ge 1$.\n",
        "- Якщо приклад ($y = 1$) знаходиться всередині зазору, але на правильному боці (тобто $0 < f(\\mathbf{x}) < 1$), функція втрат повертає додатне значення.\n",
        "- Якщо приклад ($y = 1$) на неправильному боці гіперплощини (тобто $f(\\mathbf{x}) < 0$), втрати будуть ще більшими — вони лінійно зростають із віддаленням прикладу від гіперплощини рішень.\n",
        "\n",
        "<img src=\"https://docs.google.com/uc?export=download&id=1ACsESLO5oIcQlMbX5VsRYCTUAi1Ric18\" width=\"500\"/>\n",
        "\n",
        "\n",
        "### 4.2 Оновлена цільова функція <a class=\"anchor\" id=\"updated-objective-function\"></a>\n",
        "\n",
        "З використанням завісної функції втрат ми можемо переформулювати задачу оптимізації для SVM з м’яким зазором. Для заданого набору даних $D = \\big \\{ \\mathbf{x}_n, y_n \\big \\}_{n=1}^N$ прагнемо мінімізувати загальні втрати, які тепер мають вигляд:\n",
        "\n",
        "$$\n",
        "\\min _{\\mathbf{w}, b} \\frac{1}{2}\\|\\mathbf{w}\\|^{2} + C \\sum_{n=1}^{N} \\max \\left\\{0,1-y_{n}\\left(\\left\\langle\\mathbf{w}, \\mathbf{x}_{n}\\right\\rangle+b\\right)\\right\\}\n",
        "$$\n",
        "\n",
        "Це рівнозначно попередньому формулюванню (з використанням змінних послаблення $\\xi_n$). Детальний розбір відповідності наведено в розділі 12.2.5 книги [Mathematics for Machine Learning book](https://mml-book.com)."
      ]
    },
    {
      "cell_type": "markdown",
      "metadata": {
        "id": "zi0zz2z9h9zw"
      },
      "source": [
        "### Три складові цільової функції <a class=\"anchor\" id=\"two-parts\"></a>\n",
        "\n",
        "Наша цільова функція може бути поділена на три окремі частини:\n",
        "\n",
        "- Частина 1: $\\frac{1}{2}\\|\\mathbf{w}\\|^{2}$\n",
        "\n",
        "Ця частина також називається регуляризувальним доданком (regularization term). Вона виражає перевагу для рішень, які добре розділяють дані, тобто максимізують відстань до найближчих точок (margin). Теоретично, цей доданок можна було б замінити іншим регуляризатором, якщо потрібно задати іншу форму пріоритету.\n",
        "\n",
        "- Частина 2: $\\sum_{n=1}^{N} \\max \\left\\{0,1-y_{n}\\left(\\left\\langle\\mathbf{w}, \\mathbf{x}_{n}\\right\\rangle+b\\right)\\right\\}$\n",
        "\n",
        "Цей доданок називається емпіричними втратами (empirical loss). У нашому випадку це функція завісних втрат, яка штрафує ті рішення, які помиляються при класифікації навчальних прикладів. Теоретично цю частину також можна замінити іншою функцією втрат, якщо потрібно врахувати іншу стратегію штрафування.\n",
        "\n",
        "- Частина 3: Гіперпараметр $C$\n",
        "\n",
        "Цей параметр контролює компромісом між максимізацією зазору (через регуляризацію) та мінімізацією емпіричних втрат. Чим більше значення $C$, тим більше ми намагаємося правильно класифікувати всі приклади (навіть якщо доведеться зменшити зазор). Якщо $C$ менше — ми готові пожертвувати точністю класифікації заради більшого зазору."
      ]
    },
    {
      "cell_type": "markdown",
      "metadata": {
        "id": "RWjPYXkRh9zx"
      },
      "source": [
        "### 4.3 Субградієнтний спуск <a class=\"anchor\" id=\"subgradient-descent\"></a>\n",
        "\n",
        "Завісна функція втрат є недиференційованою в точці $t=1$. Тому ми не можемо безпосередньо обчислити градієнт. Однак ми можемо скористатися методом, який називається субградієнтний спуск, щоб розв’язати нашу задачу оптимізації.\n",
        "Для спрощення виведення ми зробимо два припущення:\n",
        "1. Припустимо, що зміщення $b$ входить до вектора ваг як перший компонент: $\\mathbf{w} = [w_0, w_1, ..., w_D]$, де $w_0 = b$.\n",
        "1. Ми поділимо завісні втрати на кількість прикладів у наборі.\n",
        "\n",
        "Тоді наша функція втрат прийме вигляд:\n",
        "$$\n",
        "J(\\mathbf{w}) = \\frac{1}{2}\\|\\mathbf{w}\\|^{2} + C \\frac{1}{N} \\sum_{n=1}^{N} \\max \\left\\{0,1-y_{n}\\left(\\left\\langle\\mathbf{w}, \\mathbf{x}_{n}\\right\\rangle\\right)\\right\\}\n",
        "$$\n",
        "\n",
        "Ми можемо переписати це у вигляді, зручнішому для обчислення градієнта:\n",
        "$$\n",
        "J(\\mathbf{w}) = \\frac{1}{N} \\sum_{n=1}^{N} \\Big[ \\frac{1}{2}\\|\\mathbf{w}\\|^{2} + C \\max \\left\\{0,1-y_{n}\\left(\\left\\langle\\mathbf{w}, \\mathbf{x}_{n}\\right\\rangle\\right)\\right\\}\\Big]\n",
        "$$\n",
        "\n",
        "Субградієнт функції втрат визначається як:\n",
        "$$\n",
        "\\nabla_{w} J(\\mathbf{w}) = \\frac{1}{N} \\sum_{n=1}^N \\left\\{\\begin{array}{ll}\n",
        "\\mathbf{w} & \\text{якщо} \\max \\left(0,1-y_{n} \\left(\\langle \\mathbf{w}, \\mathbf{x}_{n} \\rangle \\right)\\right)=0 \\\\\n",
        "\\mathbf{w}-C  y_{n} \\mathbf{x}_{n} & \\text { інакше }\n",
        "\\end{array}\\right.\n",
        "$$\n",
        "\n",
        "\n",
        "Завдяки цій формулі можна застосувати стохастичний градієнтний спуск (SGD), щоб знайти мінімум функції $J(\\mathbf{w})$ і, відповідно, побудувати модель SVM із м’яким зазором."
      ]
    },
    {
      "cell_type": "markdown",
      "metadata": {
        "id": "Tbty9Uech9zz"
      },
      "source": [
        "### Різниця між градієнтним і субградієнтним спуском <a class=\"anchor\" id=\"subgradient-descent=vs-gradient-descent\"></a>\n",
        "\n",
        "Метод субградієнта дозволяє мінімізувати недиференційовні опуклі функції. Хоча він виглядає подібним до градієнтного спуску, між ними є кілька важливих відмінностей.\n",
        "\n",
        "#### Що таке субградієнт?\n",
        "\n",
        "Субградієнт можна описати як узагальнення градієнтів для недиференційовних функцій. Неофіційно, субдотичною в точці називають будь-яку пряму, що лежить нижче функції в цій точці. Субградієнт — це нахил цієї прямої. Формально, субградієнтом опуклої функції $f$ у точці $w_0$​ називають усі вектори $g$, що задовольняють нерівність:\n",
        "\n",
        "$$ f(w) - f(w_0) \\ge g \\cdot (w - w_0) $$\n",
        "\n",
        "Якщо функція $f$ диференційовна в точці $w_0$​, то множина субградієнтів містить лише один вектор, що збігається з градієнтом: $\\nabla f(w_0)$. Якщо ж $f$ не є диференційовною, то може існувати кілька векторів $g$, які задовольняють вищенаведену нерівність. Це проілюстровано на рисунку нижче.\n",
        "\n",
        "\n",
        "<img src=\"https://docs.google.com/uc?export=download&id=13WsN8wIqJEauC4AyZTxR1xSQ1F5gci6_\" width=\"900\"/>"
      ]
    },
    {
      "cell_type": "markdown",
      "metadata": {
        "id": "giSTYkzlh9zz"
      },
      "source": [
        "#### Метод субградієнта\n",
        "\n",
        "Щоб мінімізувати цільову функцію $f$, метод субградієнта використовує таку формулу оновлення:\n",
        "\n",
        "$$ w^{(k+1)} = w^{(k)} - \\alpha_k g^{(k)},$$\n",
        "\n",
        "де $g^{(k)}$ — будь-який субградієнт $f$ у точці $w^{(k)}$, а $\\alpha_k$ — $k$-ий розмір кроку. Тобто на кожній ітерації ми робимо крок у напрямку, протилежному до субградієнта.\n",
        "\n",
        "Коли $f$ є диференційовною, $g^{(k)}$ збігається з градієнтом $\\nabla f(w^{(k)})$, і метод перетворюється на звичайний метод градієнтного спуску.\n",
        "\n",
        "Більше інформації про метод субградієнта можна знайти [тут](https://web.stanford.edu/class/ee392o/subgrad_method.pdf).\n",
        "\n",
        "\n"
      ]
    },
    {
      "cell_type": "markdown",
      "metadata": {
        "id": "6Rlyormvh9z0"
      },
      "source": [
        "## 5. Реалізація прямого підходу <a class=\"anchor\" id=\"primal-implementation\"></a>\n",
        "\n",
        "### 5.1 Демонстраційний набір даних <a class=\"anchor\" id=\"toy-dataset\"></a>\n",
        "Щоб реалізувати те, що ми дізналися про SVM у прямій постановці, спершу потрібно згенерувати набір даних. У наведеному нижче блоці ми створюємо простий набір даних з двома ознаками та мітками +1 та -1. Далі ми розділяємо цей набір даних на тренувальну та тестову частини."
      ]
    },
    {
      "cell_type": "code",
      "execution_count": null,
      "metadata": {
        "colab": {
          "base_uri": "https://localhost:8080/",
          "height": 564
        },
        "id": "GHiKoqcWh9z0",
        "outputId": "db7747bb-d2e3-427a-a808-ebc763279fcc"
      },
      "outputs": [
        {
          "output_type": "display_data",
          "data": {
            "text/plain": [
              "<Figure size 800x600 with 1 Axes>"
            ],
            "image/png": "[encoded data removed]"
          },
          "metadata": {}
        }
      ],
      "source": [
        "from sklearn.datasets import make_blobs\n",
        "from sklearn.model_selection import train_test_split\n",
        "import matplotlib.pyplot as plt\n",
        "\n",
        "# Генеруємо демонстраційний набір даних\n",
        "data_features, data_targets = make_blobs(\n",
        "    n_samples=600, centers=2, n_features=2, random_state=40\n",
        ")\n",
        "\n",
        "# Заміна міток: 0 → -1, 1 → +1\n",
        "transformed_data_targets = [-1 if t == 0 else +1 for t in data_targets]\n",
        "\n",
        "# Візуалізація набору даних\n",
        "plt.figure(figsize=(8, 6))\n",
        "plt.scatter(data_features[:, 0], data_features[:, 1], c=transformed_data_targets, cmap=\"bwr\")\n",
        "plt.title(\"Демонстраційний набір даних\")\n",
        "plt.xlabel(\"Ознака 1\")\n",
        "plt.ylabel(\"Ознака 2\")\n",
        "# plt.grid(True)\n",
        "plt.show()\n",
        "\n",
        "# Поділ даних на навчальну і тестову вибірки\n",
        "features_train, features_test, labels_train, labels_test = train_test_split(\n",
        "    data_features, transformed_data_targets, test_size=0.3, random_state=42\n",
        ")\n"
      ]
    },
    {
      "cell_type": "markdown",
      "metadata": {
        "id": "T4V03DHjh9z1"
      },
      "source": [
        "### 5.2 Визначення класу SVM <a class=\"anchor\" id=\"primal-svm-class\"></a>\n",
        "\n",
        "Далі буде реалізуємо клас SVM з урахуванням такої інформації:\n",
        "\n",
        "1. Наша цільова функція з використанням завісної втрати задається наступним чином:\n",
        "$$\n",
        "J(\\mathbf{w}) = \\frac{1}{2}\\|\\mathbf{w}\\|^{2} + C \\frac{1}{N} \\sum_{n=1}^{N} \\max \\left\\{0,1-y_{n}\\left(\\left\\langle\\mathbf{w}, \\mathbf{x}_{n}\\right\\rangle\\right)\\right\\}\n",
        "$$\n",
        "2. Ми можемо мінімізувати цю функцію, обчислюючи градієнт:\n",
        "$$\n",
        "\\nabla_{w} J(\\mathbf{w}) = \\frac{1}{N} \\sum_{n=1}^N \\left\\{\\begin{array}{ll}\n",
        "\\mathbf{w} & \\text{якщо} \\max \\left(0,1-y_{n} \\left(\\langle \\mathbf{w}, \\mathbf{x}_{n} \\rangle \\right)\\right)=0 \\\\\n",
        "\\mathbf{w}-C  y_{n} \\mathbf{x}_{n} & \\text { інакше }\n",
        "\\end{array}\\right.\n",
        "$$\n",
        "3. Маючи градієнт, ми можемо використовувати стохастичний градієнтний спуск (SGD), щоб навчити модель.\n",
        "4. Після навчання моделі ми можемо здійснювати передбачення за допомогою [сигнум-функції](https://uk.wikipedia.org/wiki/Signum-%D1%84%D1%83%D0%BD%D0%BA%D1%86%D1%96%D1%8F).\n",
        "\n",
        "Як вже зазначалося, ми припускаємо, що зсув $b$ включено до вагового вектора як перший елемент $w_0$, тобто $\\mathbf{w} = [b, w_1, ..., w_D] = \\mathbf{w} = [w_0, w_1, ..., w_D]$."
      ]
    },
    {
      "cell_type": "code",
      "execution_count": null,
      "metadata": {
        "id": "qB5KnZE9h9z1"
      },
      "outputs": [],
      "source": [
        "import numpy as np\n",
        "from sklearn.utils import shuffle\n",
        "\n",
        "class LinearSVM:\n",
        "\n",
        "    def __init__(self, regularization_param):\n",
        "        \"\"\"\n",
        "        Ініціалізуємо модель, встановлюючи параметр регуляризації\n",
        "        та булеву змінну для навчених ваг.\n",
        "        \"\"\"\n",
        "        self.regularization_param = regularization_param\n",
        "        self.trained_weights = None\n",
        "\n",
        "    def add_bias_term(self, features):\n",
        "        \"\"\"\n",
        "        Додаємо інтерцепт 1 до кожного тренувального прикладу для біасу b\n",
        "        \"\"\"\n",
        "        n_samples = features.shape[0]\n",
        "        ones = np.ones((n_samples, 1))\n",
        "        return np.concatenate((ones, features), axis=1)\n",
        "\n",
        "    def compute_cost(self, weights, features, labels) -> float:\n",
        "        \"\"\"\n",
        "        Обчислюємо значення функції вартості\n",
        "        \"\"\"\n",
        "        n_samples = features.shape[0]\n",
        "\n",
        "        # Обчислюємо втрати за допомогою функції хінжа\n",
        "        predictions = np.dot(features, weights).flatten()\n",
        "        distances = 1 - labels * predictions\n",
        "        hinge_losses = np.maximum(0, distances)\n",
        "\n",
        "        # Обчислюємо суму індивідуальних втрат хінжа\n",
        "        sum_hinge_loss = np.sum(hinge_losses) / n_samples\n",
        "\n",
        "        # Обчислюємо загальну вартість\n",
        "        cost = (1 / 2) * np.dot(weights.T, weights) + self.regularization_param * sum_hinge_loss\n",
        "\n",
        "        return float(cost)\n",
        "\n",
        "    def compute_gradient(self, weights, features, labels) -> np.ndarray:\n",
        "        \"\"\"\n",
        "        Обчислюємо градієнт, необхідний для навчання\n",
        "        \"\"\"\n",
        "        predictions = np.dot(features, weights)\n",
        "        distances = 1 - labels * predictions\n",
        "        n_samples, n_feat = features.shape\n",
        "        sub_gradients = np.zeros(n_feat)\n",
        "\n",
        "        for idx, dist in enumerate(distances):\n",
        "            if max(0, dist) == 0:\n",
        "                sub_gradients += weights.T\n",
        "            else:\n",
        "                sub_grad = weights.T - (self.regularization_param * features[idx] * labels[idx])\n",
        "                sub_gradients += sub_grad\n",
        "\n",
        "        # Сумуємо і ділимо на кількість зразків\n",
        "        avg_gradient = sub_gradients / len(labels)\n",
        "\n",
        "        return avg_gradient\n",
        "\n",
        "    def train(self, train_features, train_labels, n_epochs, learning_rate=0.01, batch_size=1):\n",
        "        \"\"\"\n",
        "        Навчаємо модель за допомогою стохастичного градієнтного спуску,\n",
        "        використовуючи вказану кількість епох, коефіцієнт навчання та розмір пакету.\n",
        "        \"\"\"\n",
        "        # Додаємо термін біасу до ознак\n",
        "        train_features = self.add_bias_term(train_features)\n",
        "\n",
        "        # Ініціалізуємо вектор ваг\n",
        "        n_samples, n_feat = train_features.shape\n",
        "        weights = np.zeros(n_feat)[:, np.newaxis]\n",
        "\n",
        "        # Навчаємо модель певну кількість епох\n",
        "        for epoch in range(n_epochs):\n",
        "            features, labels = shuffle(train_features, train_labels)\n",
        "            start, end = 0, batch_size\n",
        "            while end <= len(labels): # Цикл навчання через весь набір даних\n",
        "                batch = features[start:end]\n",
        "                batch_labels = labels[start:end]\n",
        "\n",
        "                grad = self.compute_gradient(weights, batch, batch_labels)\n",
        "                update = learning_rate * grad\n",
        "                weights = weights - update\n",
        "                start, end = end, end + batch_size\n",
        "\n",
        "            current_cost = self.compute_cost(weights, features, labels)\n",
        "            print(f\"Епоха {epoch + 1}, вартість: {current_cost}\")\n",
        "\n",
        "        # Встановлюємо навчені ваги, щоб дозволити робити прогнози\n",
        "        self.trained_weights = weights\n",
        "\n",
        "    def predict(self, test_features) -> np.ndarray:\n",
        "        \"\"\"\n",
        "        Прогнозуємо мітки для нових тестових ознак.\n",
        "        Генерує помилку, якщо модель ще не була навчена.\n",
        "        \"\"\"\n",
        "        test_features = self.add_bias_term(test_features)\n",
        "        if self.trained_weights is None:\n",
        "            raise ValueError(\"Ви ще не навчали SVM!\")\n",
        "\n",
        "        predicted_labels = []\n",
        "        n_samples = test_features.shape[0]\n",
        "        for idx in range(n_samples):\n",
        "            prediction = np.sign(np.dot(self.trained_weights.T, test_features[idx]))\n",
        "            predicted_labels.append(prediction)\n",
        "\n",
        "        return np.array(predicted_labels)\n"
      ]
    },
    {
      "cell_type": "code",
      "source": [
        "import numpy as np\n",
        "from sklearn.utils import shuffle\n",
        "\n",
        "class LinearSVM:\n",
        "\n",
        "    def __init__(self, regularization_param):\n",
        "        \"\"\"\n",
        "        Ініціалізуємо модель, встановлюючи параметр регуляризації\n",
        "        та булеву змінну для наших навчених ваг.\n",
        "        \"\"\"\n",
        "        self.regularization_param = regularization_param\n",
        "        self.trained_weights = None\n",
        "\n",
        "    def add_bias_term(self, features):\n",
        "        \"\"\"\n",
        "        Додаємо зсув 1 до кожного тренувального прикладу\n",
        "        \"\"\"\n",
        "        n_samples = features.shape[0]\n",
        "        ones = np.ones((n_samples, 1))\n",
        "        return np.concatenate((ones, features), axis=1)\n",
        "\n",
        "    def compute_cost(self, weights, features, labels) -> float:\n",
        "        \"\"\"\n",
        "        Обчислюємо значення функції втрат\n",
        "        \"\"\"\n",
        "        n_samples = features.shape[0]\n",
        "\n",
        "        # Обчислюємо втрати за допомогою завісної функції\n",
        "        predictions = np.dot(features, weights).flatten()\n",
        "        distances = 1 - labels * predictions\n",
        "        hinge_losses = np.maximum(0, distances)\n",
        "\n",
        "        # Обчислюємо суму індивідуальних втрат\n",
        "        sum_hinge_loss = np.sum(hinge_losses) / n_samples\n",
        "\n",
        "        # Обчислюємо цільову функцію втрат\n",
        "        cost = (1 / 2) * np.dot(weights.T, weights) + self.regularization_param * sum_hinge_loss\n",
        "\n",
        "        return float(cost.squeeze())\n",
        "\n",
        "    def compute_gradient(self, weights, features, labels) -> np.ndarray:\n",
        "        \"\"\"\n",
        "        Обчислюємо градієнт, необхідний для навчання\n",
        "        \"\"\"\n",
        "        predictions = np.dot(features, weights)\n",
        "        distances = 1 - labels * predictions\n",
        "        n_samples, n_feat = features.shape\n",
        "        sub_gradients = np.zeros((1, n_feat))\n",
        "\n",
        "        for idx, dist in enumerate(distances):\n",
        "            if max(0, dist) == 0:\n",
        "                sub_gradients += weights.T\n",
        "            else:\n",
        "                sub_grad = weights.T - (self.regularization_param * features[idx] * labels[idx])\n",
        "                sub_gradients += sub_grad\n",
        "\n",
        "        # Сумуємо і ділимо на загальну кількість прикладів\n",
        "        avg_gradient = sum(sub_gradients) / len(labels)\n",
        "\n",
        "        return avg_gradient\n",
        "\n",
        "    def train(self, train_features, train_labels, n_epochs, learning_rate=0.01, batch_size=1):\n",
        "        \"\"\"\n",
        "        Train the model with stochastic gradient descent using the\n",
        "        specified number of epochs, learning rate and batch size.\n",
        "        \"\"\"\n",
        "        # Додаємо доданок зсуву до ознак\n",
        "        train_features = self.add_bias_term(train_features)\n",
        "\n",
        "        # Ініціалізуємо вектор ваг\n",
        "        n_samples, n_feat = train_features.shape\n",
        "        weights = np.zeros(n_feat)[:, np.newaxis]\n",
        "\n",
        "        # Навчаємо модель певну кількість епох\n",
        "        for epoch in range(n_epochs):\n",
        "            features, labels = shuffle(train_features, train_labels)\n",
        "            features, labels = train_features, train_labels\n",
        "            start, end = 0, batch_size\n",
        "            while end <= len(labels): # Навчальний цикл\n",
        "                batch = features[start:end]\n",
        "                batch_labels = labels[start:end]\n",
        "\n",
        "                grad = self.compute_gradient(weights, batch, batch_labels)\n",
        "                update = (learning_rate * grad)[:, np.newaxis]\n",
        "                weights = weights - update\n",
        "                start, end = end, end + batch_size\n",
        "\n",
        "            current_cost = self.compute_cost(weights, features, labels)\n",
        "            print(f\"Epoch {epoch + 1}, cost: {current_cost}\")\n",
        "\n",
        "        # Встановлюємо навчені ваги, щоб дозволити робити прогнози\n",
        "        self.trained_weights = weights\n",
        "\n",
        "    def predict(self, test_features) -> np.ndarray:\n",
        "        \"\"\"\n",
        "        Прогнозуємо мітки для нових тестових ознак.\n",
        "        Генерує помилку, якщо модель ще не була навчена.\n",
        "        \"\"\"\n",
        "        test_features = self.add_bias_term(test_features)\n",
        "        if self.trained_weights is None:\n",
        "            raise ValueError(\"Ви ще не навчили SVM!\")\n",
        "\n",
        "        predicted_labels = []\n",
        "        n_samples = test_features.shape[0]\n",
        "        for idx in range(n_samples):\n",
        "            prediction = np.sign(np.dot(self.trained_weights.T, test_features[idx]))\n",
        "            predicted_labels.append(prediction)\n",
        "\n",
        "        return np.array(predicted_labels)"
      ],
      "metadata": {
        "id": "b4S6-nq_9mgr"
      },
      "execution_count": null,
      "outputs": []
    },
    {
      "cell_type": "code",
      "execution_count": null,
      "metadata": {
        "id": "osiEXSY4h9z2"
      },
      "outputs": [],
      "source": [
        "# Обчислюємо деякі значення, щоб переконатися, що вартість обчислюється правильно\n",
        "# Я спочатку обчислив ці значення вручну для цього прикладу\n",
        "svm = LinearSVM(regularization_param=1)\n",
        "weights = np.array([1, 2])[:, np.newaxis]\n",
        "features = np.array([[0.5], [2.5]])\n",
        "new_features = svm.add_bias_term(features)\n",
        "\n",
        "labels = np.array([-1, +1])\n",
        "assert svm.compute_cost(weights, new_features, labels) == 4.\n",
        "gradient = svm.compute_gradient(weights, new_features, labels[:, np.newaxis])"
      ]
    },
    {
      "cell_type": "markdown",
      "metadata": {
        "id": "3Ph_P8yah9z3"
      },
      "source": [
        "### 5.3 Навчання та тестування SVM <a class=\"anchor\" id=\"train-test-svm\"></a>\n",
        "\n",
        "Після визначення нашого класу SVM ми можемо навчити модель і протестувати її на невідомих (раніше не бачених) прикладах."
      ]
    },
    {
      "cell_type": "code",
      "execution_count": null,
      "metadata": {
        "scrolled": true,
        "colab": {
          "base_uri": "https://localhost:8080/"
        },
        "id": "xg8fpkEXh9z3",
        "outputId": "76ad60ac-d12e-4563-c080-53a362815535"
      },
      "outputs": [
        {
          "output_type": "stream",
          "name": "stdout",
          "text": [
            "Epoch 1, cost: 25.486347045686678\n",
            "Epoch 2, cost: 6.314207367622469\n",
            "Epoch 3, cost: 3.4193298147764364\n",
            "Epoch 4, cost: 2.50735468053647\n",
            "Epoch 5, cost: 1.9840251894767034\n",
            "Epoch 6, cost: 1.6484990665231762\n",
            "Epoch 7, cost: 1.3650230805204846\n",
            "Epoch 8, cost: 1.1782859992568988\n",
            "Epoch 9, cost: 1.0369935605726348\n",
            "Epoch 10, cost: 0.9267497108259445\n"
          ]
        }
      ],
      "source": [
        "regularization_param = 100\n",
        "lr = 0.000001\n",
        "svm = LinearSVM(regularization_param)\n",
        "trained_weights = svm.train(features_train, labels_train, n_epochs=10, learning_rate=lr)"
      ]
    },
    {
      "cell_type": "code",
      "execution_count": null,
      "metadata": {
        "colab": {
          "base_uri": "https://localhost:8080/"
        },
        "id": "qMgPc7FCh9z4",
        "outputId": "15aa6e09-f94b-4057-e86f-056fcbe8d7b5"
      },
      "outputs": [
        {
          "output_type": "stream",
          "name": "stdout",
          "text": [
            "Точність на тестовому наборі даних: 1.0\n",
            "Повнота на тестовому наборі даних: 1.0\n",
            "Влучність на тестовому наборі даних: 1.0\n"
          ]
        }
      ],
      "source": [
        "# Передбачення міток для тестових даних\n",
        "from sklearn.metrics import accuracy_score, recall_score, precision_score\n",
        "\n",
        "predicted_labels = svm.predict(features_test)\n",
        "predicted_labels = predicted_labels.flatten()\n",
        "\n",
        "print(\"Точність на тестовому наборі даних: {}\".format(accuracy_score(labels_test, predicted_labels)))\n",
        "print(\"Повнота на тестовому наборі даних: {}\".format(recall_score(labels_test, predicted_labels)))\n",
        "print(\"Влучність на тестовому наборі даних: {}\".format(precision_score(labels_test, predicted_labels)))"
      ]
    },
    {
      "cell_type": "markdown",
      "metadata": {
        "id": "-f3yoWVqh9z4"
      },
      "source": [
        "### 5.4 Візуалізація границі прийняття рішення <a class=\"anchor\" id=\"decision-boundary\"></a>\n",
        "\n",
        "Маючи натреновану модель, ми можемо візуалізувати межу прийняття рішення, як показано нижче."
      ]
    },
    {
      "cell_type": "code",
      "execution_count": null,
      "metadata": {
        "scrolled": true,
        "colab": {
          "base_uri": "https://localhost:8080/",
          "height": 487
        },
        "id": "AoIQfHYsh9z4",
        "outputId": "0367ee4d-3a64-434a-f751-2215efc5997c"
      },
      "outputs": [
        {
          "output_type": "display_data",
          "data": {
            "text/plain": [
              "<Figure size 700x500 with 1 Axes>"
            ],
            "image/png": "[encoded data removed]"
          },
          "metadata": {}
        }
      ],
      "source": [
        "import numpy as np\n",
        "\n",
        "# Створюємо набір даних для візуалізації\n",
        "size = 40000\n",
        "feat_1 = np.random.uniform(low=-7, high=10, size=size)\n",
        "feat_2 = np.random.uniform(low=-15, high=14, size=size)\n",
        "features_vis = np.column_stack((feat_1, feat_2))\n",
        "\n",
        "# Отримуємо передбачення моделі для візуалізації межі\n",
        "labels_vis = svm.predict(features_vis)\n",
        "\n",
        "# Побудова межі прийняття рішень\n",
        "plt.figure(figsize=(7, 5))\n",
        "plt.scatter(features_vis[:, 0], features_vis[:, 1], c = labels_vis)\n",
        "\n",
        "# Відображення початкового набору даних\n",
        "positive_samples = [idx for idx in range(len(transformed_data_targets)) if transformed_data_targets[idx] == +1]\n",
        "negative_samples = [idx for idx in range(len(transformed_data_targets)) if transformed_data_targets[idx] == -1]\n",
        "\n",
        "plt.scatter(data_features[positive_samples, 0],\n",
        "            data_features[positive_samples, 1],\n",
        "            c=\"yellow\", label=\"Початкові позитивні зразки\")\n",
        "plt.scatter(data_features[negative_samples, 0],\n",
        "            data_features[negative_samples, 1],\n",
        "            c=\"purple\", label=\"Початкові негативні зразки\")\n",
        "\n",
        "plt.title(\"Межа прийняття рішень SVM\")\n",
        "plt.ylabel(\"Ознака 2\")\n",
        "plt.xlabel(\"Ознака 1\")\n",
        "plt.legend(loc=2)\n",
        "plt.show()"
      ]
    },
    {
      "cell_type": "markdown",
      "metadata": {
        "id": "gS_tev-Oh9z5"
      },
      "source": [
        "## 6. Двоїстий підхід <a class=\"anchor\" id=\"dual-approach\"></a>\n",
        "\n",
        "У попередніх розділах ми детально розглянули прямий (primal) підхід до побудови SVM. Щоб розв’язати задачу прямого SVM, потрібно знайти оптимальні значення для вагових коефіцієнтів та зміщення. Нагадаємо, що вхідні приклади $\\mathbf{x} \\in \\mathbb{R}^D$ мають $D$ ознак. Відповідно, вектор ваг $\\mathbf{w}$ також має $D$ компонент. Це може стати проблемою, якщо кількість ознак $D$ є великою.\n",
        "\n",
        "Саме тут на допомогу приходить інший спосіб формалізації SVM — так званий двоїстий підхід (dual approach). У цьому випадку оптимізаційна задача не залежить від кількості ознак. Натомість, кількість параметрів зростає з кількістю прикладів у навчальній вибірці.\n",
        "\n",
        "Двоїстий підхід базується на методі множників Лагранжа. Множники Лагранжа дозволяють знайти мінімум або максимум функції за наявності одного або кількох обмежень на вхідні значення.\n",
        "\n",
        "Якщо ви ще не чули про множники Лагранжа, рекомендую ознайомитися з [блогом](https://www.khanacademy.org/math/multivariable-calculus/applications-of-multivariable-derivatives/constrained-optimization/a/lagrange-multipliers-single-constraint) та [відео](https://www.youtube.com/watch?v=yuqB-d5MjZA&list=PLCg2-CTYVrQvNGLbd-FN70UxWZSeKP4wV&index=1) від Khan Academy.\n"
      ]
    },
    {
      "cell_type": "markdown",
      "metadata": {
        "id": "luuNhIzBh9z6"
      },
      "source": [
        "### 6.1 Підсумок про множники Лагранжа <a class=\"anchor\" id=\"recap-lagrange-multipliers\"></a>\n",
        "\n",
        "Множники Лагранжа дозволяють розв’язувати задачі оптимізації з обмеженнями. Припустимо, ми хочемо максимізувати функцію $f(x, y) = 2x + y$ за умови, що значення $x$ та $y$ задовольняють наступне рівняння обмеження: $g(x, y) := x^2 + y^2 = 1$. Це рівняння описує коло радіуса 1.\n",
        "\n",
        "Ключова ідея рішення такої задачі полягає в тому, щоб знайти такі значення $x$ і $y$, при яких градієнти функцій $f$ і $g$ співнапрямлені. Це можна виразити через множник Лагранжа (зазвичай позначається $\\lambda$).\n",
        "\n",
        "Ми хочемо знайти такі значення $x_m, y_m$, для яких виконується $\\nabla f(x_m, y_m) = \\lambda \\nabla g(x_m, y_m)$.\n",
        "\n",
        "У нашому прикладі градієнти виглядають так:\n",
        "\n",
        "$$ \\nabla f(x, y)=\\left[\\begin{array}{c}\n",
        "\\frac{\\partial}{\\partial x}(2 x+y) \\\\\n",
        "\\frac{\\partial}{\\partial y}(2 x+y)\n",
        "\\end{array}\\right]=\\left[\\begin{array}{c}\n",
        "2 \\\\ 1\n",
        "\\end{array}\\right]$$\n",
        "\n",
        "$$ \\nabla g(x, y)=\\left[\\begin{array}{c}\n",
        "\\frac{\\partial}{\\partial x}\\left(x^{2}+y^{2}-1\\right) \\\\\n",
        "\\frac{\\partial}{\\partial y}\\left(x^{2}+y^{2}-1\\right)\n",
        "\\end{array}\\right]=\\left[\\begin{array}{c}\n",
        "2 x \\\\ 2 y\n",
        "\\end{array}\\right]$$\n",
        "\n",
        "Отже, умова дотичності дає рівняння:\n",
        "$$ \\left[\\begin{array}{l}\n",
        "2 \\\\ 1\n",
        "\\end{array}\\right]=\\lambda \\left[\\begin{array}{l}\n",
        "2 x_{m} \\\\ 2 y_{m}\n",
        "\\end{array}\\right] $$\n",
        "\n",
        "Ми можемо переписати векторну форму в окремі рівняння, які можна розв'язати вручну:\n",
        "- $2 = \\lambda 2 x_m $    \n",
        "- $1 = \\lambda 2 y_m $    \n",
        "- $x_m^2 + y_m^2 = 1 $\n",
        "\n",
        "Розв'язуючи ці рівняння, отримуємо:\n",
        "$$ \\begin{aligned}\n",
        "\\left(x_{0}, y_{0}\\right) &=\\left(\\frac{1}{\\lambda_{0}}, \\frac{1}{2 \\lambda_{0}}\\right) \\\\\n",
        "&=\\left(\\frac{2}{\\sqrt{5}}, \\frac{1}{\\sqrt{5}}\\right) \\quad \\text { or } \\quad\\left(\\frac{-2}{\\sqrt{5}}, \\frac{-1}{\\sqrt{5}}\\right)\n",
        "\\end{aligned} $$\n",
        "\n",
        "Перша точка відповідає максимуму (що ми й шукали), а друга — мінімуму. Це розв’язує нашу задачу оптимізації з обмеженням. Більше деталей та повне пояснення можна знайти у [цьому пості Khan Academy](https://www.khanacademy.org/math/multivariable-calculus/applications-of-multivariable-derivatives/constrained-optimization/a/lagrange-multipliers-single-constraint)."
      ]
    },
    {
      "cell_type": "markdown",
      "metadata": {
        "id": "OvypLfiNh9z6"
      },
      "source": [
        "### 6.2 Лагранжіан  <a class=\"anchor\" id=\"recap-lagrangian\"></a>\n",
        "\n",
        "**Лагранжіан** — це математичний інструмент, який дозволяє перетворити задачу оптимізації з обмеженнями на задачу без обмежень, додавши ці обмеження до цільової функції через спеціальні множники (лагранжеві множники). У наведеному вище прикладі ми хотіли оптимізувати деяку функцію $f(x, y)$ за умови, що вхідні значення $x$ і $y$ задовольняють рівняння $g(x, y) = x^2 + y^2 = c$. У нашому випадку сталою $c$ було число 1. Ми знаємо, що розв’язком є ті точки, в яких градієнти $f$ і $g$ співнаправлені.\n",
        "\n",
        "Лагранжіан поєднує це все в одне рівняння:\n",
        "\n",
        "$$ \\mathcal{L}(x, y, \\lambda)=f(x, y)-\\lambda(g(x, y)-c) $$\n",
        "\n",
        "Коли ми обчислюємо часткові похідні $\\mathcal{L}$ за $x$, $y$ і $\\lambda$ та прирівнюємо їх до нуля, ми отримаємо рівняння, що відповідають тим трьом умовам, які ми розглядали раніше. У стислій формі це записується як:\n",
        " $$\\nabla \\mathcal{L} = \\mathbf{0}$$\n",
        "\n",
        "Компактна форма лагранжіана часто використовується при розв’язанні задач оптимізації з обмеженнями на комп’ютері, оскільки вона зводить складну задачу з кількома обмеженнями до одного рівняння."
      ]
    },
    {
      "cell_type": "markdown",
      "metadata": {
        "id": "27dDNLfXh9z6"
      },
      "source": [
        "### 6.3 Проблема дуальної оптимізації  <a class=\"anchor\" id=\"dual-optimization-problem\"></a>\n",
        "Для прямої (primal) задачі SVM із м’якими межами (soft-margin SVM) ми розглядали таку задачу оптимізації:\n",
        "\n",
        "$$ \\min_{\\mathbf{w}, b, \\mathbf{\\xi}} \\frac{1}{2} \\Vert \\mathbf{w} \\Vert^2 + C \\sum_{n=1}^N \\xi_n $$\n",
        "\n",
        "$$ \\text{за умов:} $$\n",
        "\n",
        "$$ \\begin{equation}\n",
        "y_n(\\langle \\mathbf{w}, \\mathbf{x}_n \\rangle + b) \\ge 1 - \\xi_n\n",
        "\\end{equation}$$\n",
        "\n",
        "$$ \\xi_i \\ge 0 \\;\\; \\forall n = 1, ..., N $$\n",
        "\n",
        "Щоб отримати відповідний Лагранжіан, ми вводимо два множники Лагранжа:\n",
        "- $\\alpha_n$ — для першого обмеження: правильна класифікація з урахуванням помилок (тобто $y_n(\\mathbf{w}^T \\mathbf{x}_n + b) \\geq 1 - \\xi_n$),\n",
        "- $\\lambda_n$ — для другого обмеження: невід’ємність змінних штрафу (тобто $\\xi_n \\geq 0$). Лагранжіан (Lagrangian) для цієї задачі має вигляд:\n",
        "\n",
        "$$\n",
        "\\begin{aligned}\n",
        "\\mathcal{L}(\\boldsymbol{w}, b, \\xi, \\alpha, \\gamma)=& \\frac{1}{2}\\|\\boldsymbol{w}\\|^{2}+C \\sum_{n=1}^{N} \\xi_{n} \\\\\n",
        "& \\underbrace{-\\sum_{n=1}^{N} \\alpha_{n}\\left(y_{n}\\left(\\left\\langle\\boldsymbol{w}, \\boldsymbol{x}_{n}\\right\\rangle+b\\right)-1+\\xi_{n}\\right)}_{\\text{перше обмеження}} \\underbrace{-\\sum_{n=1}^{N} \\gamma_{n} \\xi_{n}}_{\\text{друге обмеження}}\n",
        "\\end{aligned}\n",
        "$$\n",
        "\n",
        "Далі нам потрібно обчислити часткові похідні Лагранжіана за змінними $\\mathbf{w}, b$ та $\\xi$:\n",
        "$\\frac{\\partial \\mathcal{L}}{\\partial \\mathbf{w}}, \\frac{\\partial \\mathcal{L}}{\\partial b}, \\frac{\\partial \\mathcal{L}}{\\partial \\xi}$.\n",
        "\n",
        "При прирівнюванні першої часткової похідної до нуля ми отримуємо важливий проміжний результат:\n",
        "\n",
        "$$ \\mathbf{w} = \\sum_{n=1}^N \\alpha_n y_n \\mathbf{x}_n $$\n",
        "\n",
        "Це рівняння вказує на те, що оптимальне значення вектора ваг задається як лінійна комбінація навчальних прикладів. Після прирівнювання інших похідних до нуля, підставлення цього результату та спрощення рівнянь ми отримуємо наступну задачу оптимізації (деталі див. у розділі 12.3.1 книги [Mathematics for Machine Learning](https://mml-book.com)):\n",
        "\n",
        "$$\\min _{\\boldsymbol{\\alpha}} \\frac{1}{2} \\sum_{i=1}^{N} \\sum_{j=1}^{N} y_{i} y_{j} \\alpha_{i} \\alpha_{j}\\left\\langle\\mathbf{x}_{i}, \\mathbf{x}_{j}\\right\\rangle-\\sum_{i=1}^{N} \\alpha_{i}$$\n",
        "$$ \\text{за умов:} $$\n",
        "$$\\sum_{i=1}^{N} y_{i} \\alpha_{i}=0$$\n",
        "$$0 \\le \\alpha_{i} \\le C \\;\\; \\forall i=1, \\ldots, N$$\n",
        "\n",
        "\n",
        "Цю задачу квадратичної оптимізації з обмеженнями можна розв’язувати дуже ефективно, наприклад, за допомогою методів квадратичного програмування. Однією з популярних бібліотек для розв’язання дуальних SVM є [libsvm](https://github.com/cjlin1/libsvm), яка використовує метод декомпозиції для пошуку розв’язку (див. [цю статтю](https://www.csie.ntu.edu.tw/~cjlin/papers/libsvm.pdf) для деталей). Водночас існують і інші підходи."
      ]
    },
    {
      "cell_type": "markdown",
      "metadata": {
        "id": "-qCzPdqah9z6"
      },
      "source": [
        "## 7. Прямий (primal) та двоїстий (dual) підходи <a class=\"anchor\" id=\"primal-vs-dual\"></a>\n",
        "\n",
        "Більшість досліджень SVM за останнє десятиліття були зосереджені на двоїстій формулюванні. Чому так склалося — не зовсім ясно. Обидва підходи мають свої переваги та недоліки. У статті [\"Training a Support Vector Machine in the Primal\"](https://pure.mpg.de/rest/items/item_1790269_2/component/file_3080690/content) Шапель висловлює таку гіпотезу:\n",
        "\n",
        "> Ми вважаємо, що це пов’язано з тим, що SVM спочатку були представлені у формі з жорстким зазором (hard margin) (Boser та ін., 1992), для якої двоїста оптимізація (через наявність обмежень) виглядає природнішою. Загалом же, слід надавати перевагу SVM із м’яким зазором (soft margin), навіть якщо навчальні дані є лінійно роздільними: межа прийняття рішення є більш стійкою, оскільки враховується більше навчальних точок (Chapelle та ін., 2000). Ми не стверджуємо, що пряма оптимізація є загалом кращою; наша основна мотивація — підкреслити, що пряме та двоїсте формулювання — це дві сторони однієї медалі, й немає підстав завжди дивитися лише на одну сторону."
      ]
    },
    {
      "cell_type": "markdown",
      "metadata": {
        "id": "moNbTE_rh9z7"
      },
      "source": [
        "## 8. Ядра / Нелінійні SVM <a class=\"anchor\" id=\"kernel-svms\"></a>\n",
        "\n",
        "### 8.1 Що таке ядро? <a class=\"anchor\" id=\"what-is-a-kernel\"></a>\n",
        "Якщо ще раз подивитися на рівняння оптимізації для двоїстого формулювання SVM, можна помітити, що воно обчислює скалярний добуток $\\left\\langle\\mathbf{x}_{i}, \\mathbf{x}_{j}\\right\\rangle$ між усіма парами точок $\\mathbf{x}_{i}, \\mathbf{x}_{j}$.\n",
        "\n",
        "Ядро — це спосіб неявного обчислення такого скалярного добутку в деякому (можливо, дуже високовимірному) просторі ознак. Точніше: припустимо, що існує деяка функція відображення $\\varphi \\, : \\, \\mathbb R^n \\to \\mathbb R^m$, яка відображає $n$-вимірний вхідний вектор у $m$-вимірний простір ознак. Тоді ми можемо обчислити скалярний добуток двох векторів $\\mathbf x$ та $\\mathbf y$ в цьому просторі так: $\\varphi(\\mathbf x)^T \\varphi(\\mathbf y)$.\n",
        "\n",
        "Ядро — це функція $k$, яка дає той самий результат, що і цей скалярний добуток:\n",
        "$k(\\mathbf x, \\mathbf y) = \\varphi(\\mathbf x)^T \\varphi(\\mathbf y)$. Іншими словами, функція ядра еквівалентна скалярному добутку у просторі ознак, визначеному функцією відображення $\\varphi$."
      ]
    },
    {
      "cell_type": "markdown",
      "metadata": {
        "id": "Nue65CgNh9z7"
      },
      "source": [
        "### 8.2 Для чого потрібні ядра? <a class=\"anchor\" id=\"what-are-kernels-good-for\"></a>\n",
        "\n",
        "До цього моменту (за винятком SVM із м’яким зазором) наші SVM — як прямі, так і двоїсті — здатні класифікувати лише лінійно роздільні дані ([linearly separable](https://en.wikipedia.org/wiki/Linear_separability)). Проте на практиці більшість наборів даних такими не є. Нам потрібен спосіб класифікації даних, які не є лінійно роздільними. І тут у гру вступає так званий **прийом ядра** (kernel trick).\n",
        "\n",
        "Оскільки цільова функція у двоїстому формулюванні SVM містить лише скалярні добутки між точками даних $\\mathbf{x}_i, \\mathbf{x}_j$, ми можемо легко замінити цей скалярний добуток (тобто $\\left\\langle\\mathbf{x}_{i}, \\mathbf{x}_{j}\\right\\rangle$) на деяке відображення $\\varphi(\\mathbf{x}_i)^T \\varphi(\\mathbf{x}_j)$. Це відображення може бути нелінійним, що дозволяє побудувати SVM, який є нелінійним відносно вхідних прикладів. Така функція відображення трансформує наші вхідні дані (які не є лінійно роздільними) у простір вищої розмірності, де вони вже стають лінійно роздільними. Це проілюстровано на рисунку нижче.\n",
        "\n",
        "<img src=\"https://docs.google.com/uc?export=download&id=1fP5CWkEdsxMeJGCE0ulDxyd6xqPdMYiB\" width=\"900\"/>\n",
        "\n",
        "Теоретично ми можемо використовувати будь-яке відображення, яке забажаємо. Але на практиці обчислення скалярних добутків у просторі вищої розмірності є дорогим. Тому ми використовуємо такі функції відображення, для яких існує відповідна функція ядра. Це дозволяє нам працювати в просторі високої розмірності, **не обчислюючи явно** дорогі скалярні добутки.\n",
        "\n",
        "Розглянемо приклад."
      ]
    },
    {
      "cell_type": "markdown",
      "metadata": {
        "id": "385LOc8Th9z7"
      },
      "source": [
        "### 8.3 Приклад <a class=\"anchor\" id=\"kernel-example\"></a>\n",
        "\n",
        "Ми можемо створити просте поліноміальне ядро наступним чином: $k(\\mathbf{x}, \\mathbf{y}) = (1 + \\mathbf x^T \\mathbf y)^2$, де  $\\mathbf x, \\mathbf y \\in \\mathbb R^2$. На перший погляд, це ядро не пов’язане з якоюсь функцією відображення $\\varphi$ — воно просто повертає дійсне число. Наші вхідні вектори $\\mathbf{x}, \\mathbf{y}$ мають дві координати: $\\mathbf x = (x_1, x_2)$ і $\\mathbf y = (y_1, y_2)$. Маючи це, можемо розкласти обчислення ядра наступним чином:\n",
        "\n",
        "$\\begin{align*}\n",
        "k(\\mathbf x, \\mathbf y) & = (1 + \\mathbf x^T \\mathbf y)^2 \\\\\n",
        "&= (1 + x_1 \\, y_1  + x_2 \\, y_2)^2 \\\\\n",
        " & = 1 + x_1^2 y_1^2 + x_2^2 y_2^2 + 2 x_1 y_1 + 2 x_2 y_2 + 2 x_1 x_2 y_1 y_2\n",
        "\\end{align*}$\n",
        "\n",
        "Зверніть увагу, що це ніщо інше, як скалярний добуток між двома векторами: $(1, x_1^2, x_2^2, \\sqrt{2} x_1, \\sqrt{2} x_2, \\sqrt{2} x_1 x_2)$ and $(1, y_1^2, y_2^2, \\sqrt{2} y_1, \\sqrt{2} y_2, \\sqrt{2} y_1 y_2)$. Це можна записати через наступну функцію відображення:\n",
        "$$\\varphi(\\mathbf x) = \\varphi(x_1, x_2) = (1, x_1^2, x_2^2, \\sqrt{2} x_1, \\sqrt{2} x_2, \\sqrt{2} x_1 x_2)$$\n",
        "\n",
        "Таким чином, ядро: $k(\\mathbf x, \\mathbf y) = (1 + \\mathbf x^T \\mathbf y)^2 = \\varphi(\\mathbf x)^T \\varphi(\\mathbf y)$ обчислює скалярний добуток у 6-вимірному просторі, не переходячи явно до цього простору. Узагальнення скалярного добутку до функції ядра відоме під назвою п**рийом ядра (kernel trick)**.\n",
        "\n",
        "снує багато популярних функцій ядра. Наприклад,[поліноміальне ядро](https://en.wikipedia.org/wiki/Polynomial_kernel) та [радіально-базисне ядро (RBF)](https://en.wikipedia.org/wiki/Radial_basis_function_kernel)."
      ]
    },
    {
      "cell_type": "markdown",
      "metadata": {
        "id": "QWEwEDPnh9z7"
      },
      "source": [
        "### 8.4 Чи можна також використовувати ядра в прямій (primal) формі SVM? <a class=\"anchor\" id=\"kernel-in-primal-svm\"></a>\n",
        "\n",
        "Так, **прийом ядра (kernel trick)** можна застосовувати і в прямій формі SVM. Це не так просто і природно, як у випадку з двоїстою формою, але все ж можливо. Як приклад, зверніться до [цієї статті Шапеля](https://pure.mpg.de/rest/items/item_1791063_2/component/file_3009835/content), де продемонстровано, як це реалізується на практиці."
      ]
    },
    {
      "cell_type": "markdown",
      "metadata": {
        "id": "0DIwBiHFh9z7"
      },
      "source": [
        "### 8.5 Як обрати правильне ядро для своєї задачі?  <a class=\"anchor\" id=\"choosing-the-right-kernel\"></a>\n",
        "\n",
        "Підсумок:\n",
        "\n",
        "- Без спеціальних знань хорошим вибором за замовчуванням є радіально-базисне ядро (RBF kernel), якщо вам потрібна нелінійна модель.\n",
        "\n",
        "- Вибір ядра та його параметрів можна автоматизувати за допомогою крос-валідації для підбору моделі.\n",
        "\n",
        "- Автоматичний вибір ядра і параметрів — складне завдання, оскільки дуже легко перенавчити модель на критерій вибору (тобто модель буде добре працювати на валідації, але погано на нових даних)."
      ]
    },
    {
      "cell_type": "markdown",
      "metadata": {
        "id": "RvMuccMOh9z7"
      },
      "source": [
        "## 9. Джерела та додаткова література <a class=\"anchor\" id=\"sources\"></a>\n",
        "\n",
        "1. Підготовлено блокнот на основі блогу Анна-Лена Попкес [Support vector machines](https://alpopkes.com/posts/machine_learning/support_vector_machines/) та 12 розділу книги [Mathematics for Machine Learning](https://mml-book.github.io/).\n",
        "\n",
        "2. [Лекція MIT про метод опорних векторів (SVM)](https://www.youtube.com/watch?v=_PwhiWxHK8o)."
      ]
    },
    {
      "cell_type": "code",
      "execution_count": null,
      "metadata": {
        "id": "H1LmZftxh9z7"
      },
      "outputs": [],
      "source": []
    }
  ],
  "metadata": {
    "kernelspec": {
      "display_name": "Python 3",
      "language": "python",
      "name": "python3"
    },
    "language_info": {
      "codemirror_mode": {
        "name": "ipython",
        "version": 3
      },
      "file_extension": ".py",
      "mimetype": "text/x-python",
      "name": "python",
      "nbconvert_exporter": "python",
      "pygments_lexer": "ipython3",
      "version": "3.8.3"
    },
    "colab": {
      "provenance": []
    }
  },
  "nbformat": 4,
  "nbformat_minor": 0
}